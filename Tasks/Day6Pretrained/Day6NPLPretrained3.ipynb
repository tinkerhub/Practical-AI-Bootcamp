{
  "nbformat": 4,
  "nbformat_minor": 0,
  "metadata": {
    "colab": {
      "name": "Day6NPLPretrained.ipynb",
      "provenance": []
    },
    "kernelspec": {
      "name": "python3",
      "display_name": "Python 3"
    },
    "language_info": {
      "name": "python"
    }
  },
  "cells": [
    {
      "cell_type": "code",
      "metadata": {
        "id": "kUnbweg1-Uur"
      },
      "source": [
        "import tensorflow as tf\n",
        "from tensorflow.keras.preprocessing.text import Tokenizer\n",
        "from tensorflow.keras.preprocessing.sequence import pad_sequences\n",
        "from tensorflow.keras.layers import Embedding, LSTM, Dense, Bidirectional\n",
        "from tensorflow.keras.models import Sequential\n",
        "import numpy as np\n",
        "import pandas as pd"
      ],
      "execution_count": 1,
      "outputs": []
    },
    {
      "cell_type": "code",
      "metadata": {
        "colab": {
          "base_uri": "https://localhost:8080/"
        },
        "id": "suY1LyXd-ibr",
        "outputId": "d9ae8c55-a3bc-44d6-c531-39d2530ec8e2"
      },
      "source": [
        "!wget --no-check-certificate \\\n",
        "    https://drive.google.com/uc?id=13ySLC_ue6Umt9RJYSeM2t-V0kCv-4C-P -O /tmp/sentiment.csv \\\n",
        "    -O /tmp/sentiment.csv\n",
        "df = pd.read_csv('/tmp/sentiment.csv')"
      ],
      "execution_count": 2,
      "outputs": [
        {
          "output_type": "stream",
          "name": "stdout",
          "text": [
            "--2021-09-10 18:31:10--  https://drive.google.com/uc?id=13ySLC_ue6Umt9RJYSeM2t-V0kCv-4C-P\n",
            "Resolving drive.google.com (drive.google.com)... 108.177.127.101, 108.177.127.138, 108.177.127.100, ...\n",
            "Connecting to drive.google.com (drive.google.com)|108.177.127.101|:443... connected.\n",
            "HTTP request sent, awaiting response... 302 Moved Temporarily\n",
            "Location: https://doc-08-ak-docs.googleusercontent.com/docs/securesc/ha0ro937gcuc7l7deffksulhg5h7mbp1/sdmcam01an0eejtcs4luqlbof7p66u4j/1631298600000/11118900490791463723/*/13ySLC_ue6Umt9RJYSeM2t-V0kCv-4C-P [following]\n",
            "Warning: wildcards not supported in HTTP.\n",
            "--2021-09-10 18:31:10--  https://doc-08-ak-docs.googleusercontent.com/docs/securesc/ha0ro937gcuc7l7deffksulhg5h7mbp1/sdmcam01an0eejtcs4luqlbof7p66u4j/1631298600000/11118900490791463723/*/13ySLC_ue6Umt9RJYSeM2t-V0kCv-4C-P\n",
            "Resolving doc-08-ak-docs.googleusercontent.com (doc-08-ak-docs.googleusercontent.com)... 108.177.127.132, 2a00:1450:4013:c07::84\n",
            "Connecting to doc-08-ak-docs.googleusercontent.com (doc-08-ak-docs.googleusercontent.com)|108.177.127.132|:443... connected.\n",
            "HTTP request sent, awaiting response... 200 OK\n",
            "Length: 127831 (125K) [text/csv]\n",
            "Saving to: ‘/tmp/sentiment.csv’\n",
            "\n",
            "/tmp/sentiment.csv  100%[===================>] 124.83K  --.-KB/s    in 0.002s  \n",
            "\n",
            "2021-09-10 18:31:11 (63.8 MB/s) - ‘/tmp/sentiment.csv’ saved [127831/127831]\n",
            "\n"
          ]
        }
      ]
    },
    {
      "cell_type": "code",
      "metadata": {
        "id": "6bhBNLe7-qSw"
      },
      "source": [
        "X = df['text']\n",
        "y = df['sentiment']\n",
        "from sklearn.model_selection import train_test_split\n",
        "X_train, X_test , y_train, y_test = train_test_split(X, y , test_size = 0.20)"
      ],
      "execution_count": 3,
      "outputs": []
    },
    {
      "cell_type": "code",
      "metadata": {
        "id": "y73ILvIv-vFT"
      },
      "source": [
        "vocab_size = 10000\n",
        "oov_token = \"<OOV>\"\n",
        "tokenizer = Tokenizer(num_words = vocab_size, oov_token=oov_token)\n",
        "tokenizer.fit_on_texts(X_train)"
      ],
      "execution_count": 4,
      "outputs": []
    },
    {
      "cell_type": "code",
      "metadata": {
        "id": "E0wQ2I22-zGC"
      },
      "source": [
        "word_index = tokenizer.word_index"
      ],
      "execution_count": 5,
      "outputs": []
    },
    {
      "cell_type": "code",
      "metadata": {
        "id": "Wg84bbQ--4tV"
      },
      "source": [
        "X_train_sequences = tokenizer.texts_to_sequences(X_train)"
      ],
      "execution_count": 6,
      "outputs": []
    },
    {
      "cell_type": "code",
      "metadata": {
        "id": "yxudEmvOEoqD"
      },
      "source": [
        "X_test_sequences = tokenizer.texts_to_sequences(X_test)"
      ],
      "execution_count": 27,
      "outputs": []
    },
    {
      "cell_type": "code",
      "metadata": {
        "id": "896erqqr_CAf"
      },
      "source": [
        "padding_type='post'\n",
        "truncation_type='post'\n",
        "max_length = 100"
      ],
      "execution_count": 7,
      "outputs": []
    },
    {
      "cell_type": "code",
      "metadata": {
        "id": "1m_5N_aQC4y3"
      },
      "source": [
        "X_train_padded= tf.keras.preprocessing.sequence.pad_sequences(\n",
        "    X_train_sequences, padding=\"post\",truncating='post',maxlen=100\n",
        ")"
      ],
      "execution_count": 24,
      "outputs": []
    },
    {
      "cell_type": "code",
      "metadata": {
        "id": "K-ljqV-WEW0G"
      },
      "source": [
        "X_test_padded= tf.keras.preprocessing.sequence.pad_sequences(\n",
        "    X_test_sequences, padding=\"post\",truncating='post',maxlen=100\n",
        ")"
      ],
      "execution_count": 28,
      "outputs": []
    },
    {
      "cell_type": "code",
      "metadata": {
        "colab": {
          "base_uri": "https://localhost:8080/"
        },
        "id": "xAITXYxa_UgA",
        "outputId": "fd10afb4-3061-417e-ef3b-5df1d1c4dcb9"
      },
      "source": [
        "!wget --no-check-certificate \\\n",
        "    http://nlp.stanford.edu/data/glove.6B.zip \\\n",
        "    -O /tmp/glove.6B.zip"
      ],
      "execution_count": 8,
      "outputs": [
        {
          "output_type": "stream",
          "name": "stdout",
          "text": [
            "--2021-09-10 18:34:35--  http://nlp.stanford.edu/data/glove.6B.zip\n",
            "Resolving nlp.stanford.edu (nlp.stanford.edu)... 171.64.67.140\n",
            "Connecting to nlp.stanford.edu (nlp.stanford.edu)|171.64.67.140|:80... connected.\n",
            "HTTP request sent, awaiting response... 302 Found\n",
            "Location: https://nlp.stanford.edu/data/glove.6B.zip [following]\n",
            "--2021-09-10 18:34:36--  https://nlp.stanford.edu/data/glove.6B.zip\n",
            "Connecting to nlp.stanford.edu (nlp.stanford.edu)|171.64.67.140|:443... connected.\n",
            "HTTP request sent, awaiting response... 301 Moved Permanently\n",
            "Location: http://downloads.cs.stanford.edu/nlp/data/glove.6B.zip [following]\n",
            "--2021-09-10 18:34:36--  http://downloads.cs.stanford.edu/nlp/data/glove.6B.zip\n",
            "Resolving downloads.cs.stanford.edu (downloads.cs.stanford.edu)... 171.64.64.22\n",
            "Connecting to downloads.cs.stanford.edu (downloads.cs.stanford.edu)|171.64.64.22|:80... connected.\n",
            "HTTP request sent, awaiting response... 200 OK\n",
            "Length: 862182613 (822M) [application/zip]\n",
            "Saving to: ‘/tmp/glove.6B.zip’\n",
            "\n",
            "/tmp/glove.6B.zip   100%[===================>] 822.24M  5.32MB/s    in 2m 42s  \n",
            "\n",
            "2021-09-10 18:37:18 (5.09 MB/s) - ‘/tmp/glove.6B.zip’ saved [862182613/862182613]\n",
            "\n"
          ]
        }
      ]
    },
    {
      "cell_type": "code",
      "metadata": {
        "id": "_imIkC0T_ZAj"
      },
      "source": [
        "import zipfile \n",
        "with zipfile.ZipFile('/tmp/glove.6B.zip', 'r') as zip_ref:\n",
        "    zip_ref.extractall('/tmp/glove')"
      ],
      "execution_count": 11,
      "outputs": []
    },
    {
      "cell_type": "code",
      "metadata": {
        "colab": {
          "base_uri": "https://localhost:8080/"
        },
        "id": "PC1AXB6k_ipC",
        "outputId": "8973a01e-61ff-4e52-8e2f-5969112a8c43"
      },
      "source": [
        "embeddings_index = {}\n",
        "f = open('/tmp/glove/glove.6B.100d.txt')\n",
        "for line in f:\n",
        "    values = line.split()\n",
        "    word = values[0]\n",
        "    coefs = np.asarray(values[1:], dtype='float32')\n",
        "    embeddings_index[word] = coefs\n",
        "f.close()\n",
        "\n",
        "print('Found %s word vectors.' % len(embeddings_index))"
      ],
      "execution_count": 12,
      "outputs": [
        {
          "output_type": "stream",
          "name": "stdout",
          "text": [
            "Found 400000 word vectors.\n"
          ]
        }
      ]
    },
    {
      "cell_type": "code",
      "metadata": {
        "id": "9Qekck5b_qB1"
      },
      "source": [
        "embedding_matrix = np.zeros((len(word_index) + 1, max_length))\n",
        "for word, i in word_index.items():\n",
        "    embedding_vector = embeddings_index.get(word)\n",
        "    if embedding_vector is not None:\n",
        "        # words not found in embedding index will be all-zeros.\n",
        "        embedding_matrix[i] = embedding_vector"
      ],
      "execution_count": 13,
      "outputs": []
    },
    {
      "cell_type": "code",
      "metadata": {
        "id": "rLenRH6S_yi2"
      },
      "source": [
        "embedding_layer = Embedding(len(word_index) + 1,\n",
        "                            max_length,\n",
        "                            weights=[embedding_matrix],\n",
        "                            input_length=max_length,\n",
        "                            trainable=False)"
      ],
      "execution_count": 14,
      "outputs": []
    },
    {
      "cell_type": "code",
      "metadata": {
        "id": "UoRTaTj6_2WG"
      },
      "source": [
        "model = Sequential([\n",
        "    embedding_layer,\n",
        "    Bidirectional(LSTM(150, return_sequences=True)), \n",
        "    Bidirectional(LSTM(150)),\n",
        "    Dense(6, activation='relu'),\n",
        "   Dense(1, activation='sigmoid')\n",
        "])"
      ],
      "execution_count": 15,
      "outputs": []
    },
    {
      "cell_type": "code",
      "metadata": {
        "id": "UvVkQ8rC_6c6"
      },
      "source": [
        "model.compile(loss='binary_crossentropy',optimizer='adam',metrics=['accuracy'])"
      ],
      "execution_count": 16,
      "outputs": []
    },
    {
      "cell_type": "code",
      "metadata": {
        "id": "cuc-AG1JAwmH"
      },
      "source": [
        "from tensorflow.keras.callbacks import EarlyStopping, TensorBoard"
      ],
      "execution_count": 17,
      "outputs": []
    },
    {
      "cell_type": "code",
      "metadata": {
        "colab": {
          "base_uri": "https://localhost:8080/"
        },
        "id": "3iWfXRoNA1LH",
        "outputId": "2cc03e70-134d-4ea3-ec25-93a403b022e9"
      },
      "source": [
        "%load_ext tensorboard\n",
        "#rm -rf logs\n",
        "log_folder = 'logs'\n",
        "callbacks = [\n",
        "            EarlyStopping(patience = 10),\n",
        "            TensorBoard(log_dir=log_folder)\n",
        "            ]\n",
        "num_epochs = 10\n",
        "history = model.fit(X_train_padded, y_train, epochs=num_epochs, validation_data=(X_test_padded, y_test),callbacks=callbacks)"
      ],
      "execution_count": 30,
      "outputs": [
        {
          "output_type": "stream",
          "name": "stdout",
          "text": [
            "The tensorboard extension is already loaded. To reload it, use:\n",
            "  %reload_ext tensorboard\n",
            "Epoch 1/10\n",
            "50/50 [==============================] - 29s 573ms/step - loss: 0.6925 - accuracy: 0.4997 - val_loss: 0.6894 - val_accuracy: 0.4762\n",
            "Epoch 2/10\n",
            "50/50 [==============================] - 29s 588ms/step - loss: 0.6543 - accuracy: 0.6378 - val_loss: 0.6351 - val_accuracy: 0.7318\n",
            "Epoch 3/10\n",
            "50/50 [==============================] - 30s 600ms/step - loss: 0.5981 - accuracy: 0.7320 - val_loss: 0.6057 - val_accuracy: 0.7744\n",
            "Epoch 4/10\n",
            "50/50 [==============================] - 30s 596ms/step - loss: 0.5718 - accuracy: 0.7514 - val_loss: 0.5907 - val_accuracy: 0.7644\n",
            "Epoch 5/10\n",
            "50/50 [==============================] - 30s 592ms/step - loss: 0.4714 - accuracy: 0.7928 - val_loss: 0.4642 - val_accuracy: 0.7895\n",
            "Epoch 6/10\n",
            "50/50 [==============================] - 29s 586ms/step - loss: 0.3996 - accuracy: 0.8280 - val_loss: 0.4458 - val_accuracy: 0.8020\n",
            "Epoch 7/10\n",
            "50/50 [==============================] - 29s 581ms/step - loss: 0.3453 - accuracy: 0.8550 - val_loss: 0.4443 - val_accuracy: 0.7920\n",
            "Epoch 8/10\n",
            "50/50 [==============================] - 29s 581ms/step - loss: 0.3132 - accuracy: 0.8669 - val_loss: 0.4289 - val_accuracy: 0.7895\n",
            "Epoch 9/10\n",
            "50/50 [==============================] - 28s 566ms/step - loss: 0.2663 - accuracy: 0.9002 - val_loss: 0.4498 - val_accuracy: 0.8120\n",
            "Epoch 10/10\n",
            "50/50 [==============================] - 29s 587ms/step - loss: 0.2319 - accuracy: 0.9083 - val_loss: 0.4792 - val_accuracy: 0.7895\n"
          ]
        }
      ]
    },
    {
      "cell_type": "code",
      "metadata": {
        "colab": {
          "base_uri": "https://localhost:8080/"
        },
        "id": "Mtcx1aLoGV1z",
        "outputId": "72048c83-9da1-46a2-bcc3-8635f8aa2f1b"
      },
      "source": [
        "loss, accuracy = model.evaluate(X_test_padded,y_test)\n",
        "print('Test accuracy :', accuracy)"
      ],
      "execution_count": 31,
      "outputs": [
        {
          "output_type": "stream",
          "name": "stdout",
          "text": [
            "13/13 [==============================] - 2s 123ms/step - loss: 0.4792 - accuracy: 0.7895\n",
            "Test accuracy : 0.7894737124443054\n"
          ]
        }
      ]
    }
  ]
}