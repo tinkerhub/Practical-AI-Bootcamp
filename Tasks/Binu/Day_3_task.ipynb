{
  "nbformat": 4,
  "nbformat_minor": 0,
  "metadata": {
    "colab": {
      "name": "Day 3 task.ipynb",
      "provenance": []
    },
    "kernelspec": {
      "name": "python3",
      "display_name": "Python 3"
    },
    "language_info": {
      "name": "python"
    }
  },
  "cells": [
    {
      "cell_type": "code",
      "metadata": {
        "colab": {
          "base_uri": "https://localhost:8080/"
        },
        "id": "_7y2KboYO0wK",
        "outputId": "8346f8cc-4819-4de7-b3d5-fa5b0cd96301"
      },
      "source": [
        "pip install -q -U tensorflow-text"
      ],
      "execution_count": 1,
      "outputs": [
        {
          "output_type": "stream",
          "name": "stdout",
          "text": [
            "\u001b[K     |████████████████████████████████| 4.4 MB 4.3 MB/s \n",
            "\u001b[?25h"
          ]
        }
      ]
    },
    {
      "cell_type": "code",
      "metadata": {
        "id": "tPFEUKXqOgxT"
      },
      "source": [
        "import tensorflow as tf\n",
        "import tensorflow_text as text\n",
        "import functools\n",
        "import pathlib\n",
        "import collections\n",
        "import re\n",
        "import string\n",
        "\n",
        "from tensorflow.keras import layers\n",
        "from tensorflow.keras import losses\n",
        "from tensorflow.keras import preprocessing\n",
        "from tensorflow.keras import utils\n",
        "from tensorflow.keras.layers.experimental.preprocessing import TextVectorization\n",
        "\n",
        "import tensorflow_datasets as tfds"
      ],
      "execution_count": 2,
      "outputs": []
    },
    {
      "cell_type": "code",
      "metadata": {
        "colab": {
          "base_uri": "https://localhost:8080/"
        },
        "id": "x6hxZff8O6G0",
        "outputId": "5b2a2b09-3ea6-452c-b07d-870b5ed1bf45"
      },
      "source": [
        "directory_url = 'https://storage.googleapis.com/download.tensorflow.org/data/illiad/'\n",
        "file_names = ['cowper.txt', 'derby.txt', 'butler.txt']\n",
        "\n",
        "#for name in FILE_NAMES:\n",
        "  #text_dir = utils.get_file(name, origin=DIRECTORY_URL + name)\n",
        "\n",
        "#parent_dir = pathlib.Path(text_dir).parent\n",
        "#list(parent_dir.iterdir())\n",
        "\n",
        "file_paths = [\n",
        "    tf.keras.utils.get_file(file_name, directory_url + file_name)\n",
        "    for file_name in file_names\n",
        "]\n",
        "\n",
        "dataset = tf.data.TextLineDataset(file_paths)\n",
        "for line in dataset.take(5):\n",
        "  print(line.numpy())\n"
      ],
      "execution_count": 3,
      "outputs": [
        {
          "output_type": "stream",
          "name": "stdout",
          "text": [
            "Downloading data from https://storage.googleapis.com/download.tensorflow.org/data/illiad/cowper.txt\n",
            "819200/815980 [==============================] - 0s 0us/step\n",
            "827392/815980 [==============================] - 0s 0us/step\n",
            "Downloading data from https://storage.googleapis.com/download.tensorflow.org/data/illiad/derby.txt\n",
            "811008/809730 [==============================] - 0s 0us/step\n",
            "819200/809730 [==============================] - 0s 0us/step\n",
            "Downloading data from https://storage.googleapis.com/download.tensorflow.org/data/illiad/butler.txt\n",
            "811008/807992 [==============================] - 0s 0us/step\n",
            "819200/807992 [==============================] - 0s 0us/step\n",
            "b\"\\xef\\xbb\\xbfAchilles sing, O Goddess! Peleus' son;\"\n",
            "b'His wrath pernicious, who ten thousand woes'\n",
            "b\"Caused to Achaia's host, sent many a soul\"\n",
            "b'Illustrious into Ades premature,'\n",
            "b'And Heroes gave (so stood the will of Jove)'\n"
          ]
        }
      ]
    },
    {
      "cell_type": "code",
      "metadata": {
        "colab": {
          "base_uri": "https://localhost:8080/"
        },
        "id": "Tw_cGtrfmMWg",
        "outputId": "d600c40e-f0f7-4c96-a0e1-8df30f1df534"
      },
      "source": [
        "dataset = tf.data.TextLineDataset(file_paths)\n",
        "for line in dataset.take(5):\n",
        "  print(line.numpy().decode(\"utf-8\"))"
      ],
      "execution_count": 6,
      "outputs": [
        {
          "output_type": "stream",
          "name": "stdout",
          "text": [
            "﻿Achilles sing, O Goddess! Peleus' son;\n",
            "His wrath pernicious, who ten thousand woes\n",
            "Caused to Achaia's host, sent many a soul\n",
            "Illustrious into Ades premature,\n",
            "And Heroes gave (so stood the will of Jove)\n"
          ]
        }
      ]
    },
    {
      "cell_type": "code",
      "metadata": {
        "id": "TUQOFwdfRTQy"
      },
      "source": [
        "text.normalize_utf8(\n",
        "    input, normalization_form='NFKC', name=None\n",
        ")"
      ],
      "execution_count": null,
      "outputs": []
    }
  ]
}